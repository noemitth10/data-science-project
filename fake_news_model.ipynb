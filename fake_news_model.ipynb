{
 "cells": [
  {
   "cell_type": "code",
   "execution_count": 268,
   "id": "d9adfd7a",
   "metadata": {},
   "outputs": [],
   "source": [
    "import pandas as pd\n",
    "import numpy as np\n",
    "import itertools\n",
    "from sklearn.model_selection import train_test_split\n",
    "from sklearn.linear_model import PassiveAggressiveClassifier\n",
    "from sklearn.metrics import accuracy_score, confusion_matrix\n",
    "import string as st\n",
    "import re\n",
    "import nltk\n",
    "from nltk import PorterStemmer, WordNetLemmatizer\n",
    "import matplotlib.pyplot as plt\n",
    "from nltk.tokenize import word_tokenize\n",
    "from wordcloud import WordCloud, ImageColorGenerator\n",
    "from tensorflow import keras"
   ]
  },
  {
   "cell_type": "code",
   "execution_count": 224,
   "id": "99fa0b28",
   "metadata": {},
   "outputs": [
    {
     "name": "stderr",
     "output_type": "stream",
     "text": [
      "[nltk_data] Downloading package punkt to\n",
      "[nltk_data]     C:\\Users\\noemi\\AppData\\Roaming\\nltk_data...\n",
      "[nltk_data]   Package punkt is already up-to-date!\n",
      "[nltk_data] Downloading package stopwords to\n",
      "[nltk_data]     C:\\Users\\noemi\\AppData\\Roaming\\nltk_data...\n",
      "[nltk_data]   Package stopwords is already up-to-date!\n",
      "[nltk_data] Downloading package wordnet to\n",
      "[nltk_data]     C:\\Users\\noemi\\AppData\\Roaming\\nltk_data...\n",
      "[nltk_data]   Package wordnet is already up-to-date!\n",
      "[nltk_data] Downloading package omw-1.4 to\n",
      "[nltk_data]     C:\\Users\\noemi\\AppData\\Roaming\\nltk_data...\n",
      "[nltk_data]   Package omw-1.4 is already up-to-date!\n"
     ]
    },
    {
     "data": {
      "text/plain": [
       "True"
      ]
     },
     "execution_count": 224,
     "metadata": {},
     "output_type": "execute_result"
    }
   ],
   "source": [
    "nltk.download('punkt')\n",
    "nltk.download('stopwords')\n",
    "nltk.download('wordnet')\n",
    "nltk.download('omw-1.4')"
   ]
  },
  {
   "cell_type": "code",
   "execution_count": 225,
   "id": "d14a97ae",
   "metadata": {},
   "outputs": [
    {
     "data": {
      "text/plain": [
       "title      False\n",
       "text       False\n",
       "subject    False\n",
       "date       False\n",
       "dtype: bool"
      ]
     },
     "execution_count": 225,
     "metadata": {},
     "output_type": "execute_result"
    }
   ],
   "source": [
    "#Load the data from the CSV files\n",
    "fake_news = pd.read_csv('Fake.csv')\n",
    "fake_news.isnull().any()"
   ]
  },
  {
   "cell_type": "code",
   "execution_count": 226,
   "id": "ca478dba",
   "metadata": {},
   "outputs": [
    {
     "data": {
      "text/plain": [
       "title      False\n",
       "text       False\n",
       "subject    False\n",
       "date       False\n",
       "dtype: bool"
      ]
     },
     "execution_count": 226,
     "metadata": {},
     "output_type": "execute_result"
    }
   ],
   "source": [
    "true_news = pd.read_csv('True.csv')\n",
    "true_news.isnull().any()"
   ]
  },
  {
   "cell_type": "code",
   "execution_count": 227,
   "id": "82ebde4f",
   "metadata": {},
   "outputs": [],
   "source": [
    "#Load the data into dataframes\n",
    "df_fake = pd.DataFrame(fake_news)\n",
    "df_true = pd.DataFrame(true_news)"
   ]
  },
  {
   "cell_type": "code",
   "execution_count": 228,
   "id": "cf813e5f",
   "metadata": {},
   "outputs": [],
   "source": [
    "labels = []\n",
    "\n",
    "for i in range(0, len(df_fake)):\n",
    "    labels.append(1)"
   ]
  },
  {
   "cell_type": "code",
   "execution_count": 229,
   "id": "300549ba",
   "metadata": {},
   "outputs": [],
   "source": [
    "df_fake['label'] = labels"
   ]
  },
  {
   "cell_type": "code",
   "execution_count": 230,
   "id": "9ef1a7e2",
   "metadata": {},
   "outputs": [],
   "source": [
    "labels = []\n",
    "\n",
    "for i in range(0, len(df_true)):\n",
    "    labels.append(0)"
   ]
  },
  {
   "cell_type": "code",
   "execution_count": 231,
   "id": "79d003d0",
   "metadata": {},
   "outputs": [],
   "source": [
    "df_true['label'] = labels"
   ]
  },
  {
   "cell_type": "code",
   "execution_count": 232,
   "id": "ff4956f1",
   "metadata": {},
   "outputs": [
    {
     "data": {
      "text/html": [
       "<div>\n",
       "<style scoped>\n",
       "    .dataframe tbody tr th:only-of-type {\n",
       "        vertical-align: middle;\n",
       "    }\n",
       "\n",
       "    .dataframe tbody tr th {\n",
       "        vertical-align: top;\n",
       "    }\n",
       "\n",
       "    .dataframe thead th {\n",
       "        text-align: right;\n",
       "    }\n",
       "</style>\n",
       "<table border=\"1\" class=\"dataframe\">\n",
       "  <thead>\n",
       "    <tr style=\"text-align: right;\">\n",
       "      <th></th>\n",
       "      <th>title</th>\n",
       "      <th>text</th>\n",
       "      <th>subject</th>\n",
       "      <th>date</th>\n",
       "      <th>label</th>\n",
       "    </tr>\n",
       "  </thead>\n",
       "  <tbody>\n",
       "    <tr>\n",
       "      <th>0</th>\n",
       "      <td>Donald Trump Sends Out Embarrassing New Year’...</td>\n",
       "      <td>Donald Trump just couldn t wish all Americans ...</td>\n",
       "      <td>News</td>\n",
       "      <td>December 31, 2017</td>\n",
       "      <td>1</td>\n",
       "    </tr>\n",
       "    <tr>\n",
       "      <th>1</th>\n",
       "      <td>Drunk Bragging Trump Staffer Started Russian ...</td>\n",
       "      <td>House Intelligence Committee Chairman Devin Nu...</td>\n",
       "      <td>News</td>\n",
       "      <td>December 31, 2017</td>\n",
       "      <td>1</td>\n",
       "    </tr>\n",
       "    <tr>\n",
       "      <th>2</th>\n",
       "      <td>Sheriff David Clarke Becomes An Internet Joke...</td>\n",
       "      <td>On Friday, it was revealed that former Milwauk...</td>\n",
       "      <td>News</td>\n",
       "      <td>December 30, 2017</td>\n",
       "      <td>1</td>\n",
       "    </tr>\n",
       "    <tr>\n",
       "      <th>3</th>\n",
       "      <td>Trump Is So Obsessed He Even Has Obama’s Name...</td>\n",
       "      <td>On Christmas day, Donald Trump announced that ...</td>\n",
       "      <td>News</td>\n",
       "      <td>December 29, 2017</td>\n",
       "      <td>1</td>\n",
       "    </tr>\n",
       "    <tr>\n",
       "      <th>4</th>\n",
       "      <td>Pope Francis Just Called Out Donald Trump Dur...</td>\n",
       "      <td>Pope Francis used his annual Christmas Day mes...</td>\n",
       "      <td>News</td>\n",
       "      <td>December 25, 2017</td>\n",
       "      <td>1</td>\n",
       "    </tr>\n",
       "    <tr>\n",
       "      <th>...</th>\n",
       "      <td>...</td>\n",
       "      <td>...</td>\n",
       "      <td>...</td>\n",
       "      <td>...</td>\n",
       "      <td>...</td>\n",
       "    </tr>\n",
       "    <tr>\n",
       "      <th>21412</th>\n",
       "      <td>'Fully committed' NATO backs new U.S. approach...</td>\n",
       "      <td>BRUSSELS (Reuters) - NATO allies on Tuesday we...</td>\n",
       "      <td>worldnews</td>\n",
       "      <td>August 22, 2017</td>\n",
       "      <td>0</td>\n",
       "    </tr>\n",
       "    <tr>\n",
       "      <th>21413</th>\n",
       "      <td>LexisNexis withdrew two products from Chinese ...</td>\n",
       "      <td>LONDON (Reuters) - LexisNexis, a provider of l...</td>\n",
       "      <td>worldnews</td>\n",
       "      <td>August 22, 2017</td>\n",
       "      <td>0</td>\n",
       "    </tr>\n",
       "    <tr>\n",
       "      <th>21414</th>\n",
       "      <td>Minsk cultural hub becomes haven from authorities</td>\n",
       "      <td>MINSK (Reuters) - In the shadow of disused Sov...</td>\n",
       "      <td>worldnews</td>\n",
       "      <td>August 22, 2017</td>\n",
       "      <td>0</td>\n",
       "    </tr>\n",
       "    <tr>\n",
       "      <th>21415</th>\n",
       "      <td>Vatican upbeat on possibility of Pope Francis ...</td>\n",
       "      <td>MOSCOW (Reuters) - Vatican Secretary of State ...</td>\n",
       "      <td>worldnews</td>\n",
       "      <td>August 22, 2017</td>\n",
       "      <td>0</td>\n",
       "    </tr>\n",
       "    <tr>\n",
       "      <th>21416</th>\n",
       "      <td>Indonesia to buy $1.14 billion worth of Russia...</td>\n",
       "      <td>JAKARTA (Reuters) - Indonesia will buy 11 Sukh...</td>\n",
       "      <td>worldnews</td>\n",
       "      <td>August 22, 2017</td>\n",
       "      <td>0</td>\n",
       "    </tr>\n",
       "  </tbody>\n",
       "</table>\n",
       "<p>44898 rows × 5 columns</p>\n",
       "</div>"
      ],
      "text/plain": [
       "                                                   title  \\\n",
       "0       Donald Trump Sends Out Embarrassing New Year’...   \n",
       "1       Drunk Bragging Trump Staffer Started Russian ...   \n",
       "2       Sheriff David Clarke Becomes An Internet Joke...   \n",
       "3       Trump Is So Obsessed He Even Has Obama’s Name...   \n",
       "4       Pope Francis Just Called Out Donald Trump Dur...   \n",
       "...                                                  ...   \n",
       "21412  'Fully committed' NATO backs new U.S. approach...   \n",
       "21413  LexisNexis withdrew two products from Chinese ...   \n",
       "21414  Minsk cultural hub becomes haven from authorities   \n",
       "21415  Vatican upbeat on possibility of Pope Francis ...   \n",
       "21416  Indonesia to buy $1.14 billion worth of Russia...   \n",
       "\n",
       "                                                    text    subject  \\\n",
       "0      Donald Trump just couldn t wish all Americans ...       News   \n",
       "1      House Intelligence Committee Chairman Devin Nu...       News   \n",
       "2      On Friday, it was revealed that former Milwauk...       News   \n",
       "3      On Christmas day, Donald Trump announced that ...       News   \n",
       "4      Pope Francis used his annual Christmas Day mes...       News   \n",
       "...                                                  ...        ...   \n",
       "21412  BRUSSELS (Reuters) - NATO allies on Tuesday we...  worldnews   \n",
       "21413  LONDON (Reuters) - LexisNexis, a provider of l...  worldnews   \n",
       "21414  MINSK (Reuters) - In the shadow of disused Sov...  worldnews   \n",
       "21415  MOSCOW (Reuters) - Vatican Secretary of State ...  worldnews   \n",
       "21416  JAKARTA (Reuters) - Indonesia will buy 11 Sukh...  worldnews   \n",
       "\n",
       "                    date  label  \n",
       "0      December 31, 2017      1  \n",
       "1      December 31, 2017      1  \n",
       "2      December 30, 2017      1  \n",
       "3      December 29, 2017      1  \n",
       "4      December 25, 2017      1  \n",
       "...                  ...    ...  \n",
       "21412   August 22, 2017       0  \n",
       "21413   August 22, 2017       0  \n",
       "21414   August 22, 2017       0  \n",
       "21415   August 22, 2017       0  \n",
       "21416   August 22, 2017       0  \n",
       "\n",
       "[44898 rows x 5 columns]"
      ]
     },
     "execution_count": 232,
     "metadata": {},
     "output_type": "execute_result"
    }
   ],
   "source": [
    "#Merge the two dataset into one\n",
    "frames = [df_fake, df_true]\n",
    "result = pd.concat(frames)\n",
    "result"
   ]
  },
  {
   "cell_type": "code",
   "execution_count": 233,
   "id": "ffe28ad4",
   "metadata": {},
   "outputs": [
    {
     "data": {
      "text/html": [
       "<div>\n",
       "<style scoped>\n",
       "    .dataframe tbody tr th:only-of-type {\n",
       "        vertical-align: middle;\n",
       "    }\n",
       "\n",
       "    .dataframe tbody tr th {\n",
       "        vertical-align: top;\n",
       "    }\n",
       "\n",
       "    .dataframe thead th {\n",
       "        text-align: right;\n",
       "    }\n",
       "</style>\n",
       "<table border=\"1\" class=\"dataframe\">\n",
       "  <thead>\n",
       "    <tr style=\"text-align: right;\">\n",
       "      <th></th>\n",
       "      <th>title</th>\n",
       "      <th>text</th>\n",
       "      <th>subject</th>\n",
       "      <th>date</th>\n",
       "      <th>label</th>\n",
       "    </tr>\n",
       "  </thead>\n",
       "  <tbody>\n",
       "    <tr>\n",
       "      <th>0</th>\n",
       "      <td>OPEN BORDERS BERNIE Threatens Sheriff Arpaio F...</td>\n",
       "      <td>Just what America needs another President who ...</td>\n",
       "      <td>politics</td>\n",
       "      <td>Mar 20, 2016</td>\n",
       "      <td>1</td>\n",
       "    </tr>\n",
       "    <tr>\n",
       "      <th>1</th>\n",
       "      <td>Trump says Mexico 'eventually' will pay for bo...</td>\n",
       "      <td>WASHINGTON (Reuters) - President Donald Trump ...</td>\n",
       "      <td>politicsNews</td>\n",
       "      <td>April 23, 2017</td>\n",
       "      <td>0</td>\n",
       "    </tr>\n",
       "    <tr>\n",
       "      <th>2</th>\n",
       "      <td>SHOCKING! MSNBC REPORTER GRILLS MAXINE WATERS ...</td>\n",
       "      <td>TERM LIMITS, TERM LIMITS, TERM LIMITS! Maxine ...</td>\n",
       "      <td>politics</td>\n",
       "      <td>May 14, 2017</td>\n",
       "      <td>1</td>\n",
       "    </tr>\n",
       "    <tr>\n",
       "      <th>3</th>\n",
       "      <td>NRA Finally Vomits Up Stupid, Hypocritical No...</td>\n",
       "      <td>Philandro Castile, the black man in Minnesota ...</td>\n",
       "      <td>News</td>\n",
       "      <td>July 8, 2016</td>\n",
       "      <td>1</td>\n",
       "    </tr>\n",
       "    <tr>\n",
       "      <th>4</th>\n",
       "      <td>CATHERINE HERRIDGE: ‘Verifiable Proof’ Comey D...</td>\n",
       "      <td>It had been reported (see our previous report ...</td>\n",
       "      <td>politics</td>\n",
       "      <td>Oct 17, 2017</td>\n",
       "      <td>1</td>\n",
       "    </tr>\n",
       "    <tr>\n",
       "      <th>...</th>\n",
       "      <td>...</td>\n",
       "      <td>...</td>\n",
       "      <td>...</td>\n",
       "      <td>...</td>\n",
       "      <td>...</td>\n",
       "    </tr>\n",
       "    <tr>\n",
       "      <th>44893</th>\n",
       "      <td>Former FBI Agent: ‘Stay Tuned’ Because Muelle...</td>\n",
       "      <td>Donald Trump is terrified of Special Counsel R...</td>\n",
       "      <td>News</td>\n",
       "      <td>August 6, 2017</td>\n",
       "      <td>1</td>\n",
       "    </tr>\n",
       "    <tr>\n",
       "      <th>44894</th>\n",
       "      <td>Hateful Letter To Food Bank PROVES We Need Fo...</td>\n",
       "      <td>A few days before Thanksgiving, a food bank in...</td>\n",
       "      <td>News</td>\n",
       "      <td>November 25, 2016</td>\n",
       "      <td>1</td>\n",
       "    </tr>\n",
       "    <tr>\n",
       "      <th>44895</th>\n",
       "      <td>Pakistani peace activist reported missing, pol...</td>\n",
       "      <td>Karachi, Pakistan (Reuters) - A Pakistani peac...</td>\n",
       "      <td>worldnews</td>\n",
       "      <td>December 5, 2017</td>\n",
       "      <td>0</td>\n",
       "    </tr>\n",
       "    <tr>\n",
       "      <th>44896</th>\n",
       "      <td>Trump softens immigration stance, takes measur...</td>\n",
       "      <td>WASHINGTON (Reuters) - President Donald Trump ...</td>\n",
       "      <td>politicsNews</td>\n",
       "      <td>February 28, 2017</td>\n",
       "      <td>0</td>\n",
       "    </tr>\n",
       "    <tr>\n",
       "      <th>44897</th>\n",
       "      <td>War-ravaged South Sudan may scrap expensive oi...</td>\n",
       "      <td>JUBA (Reuters) - War-ravaged South Sudan is co...</td>\n",
       "      <td>worldnews</td>\n",
       "      <td>September 12, 2017</td>\n",
       "      <td>0</td>\n",
       "    </tr>\n",
       "  </tbody>\n",
       "</table>\n",
       "<p>44898 rows × 5 columns</p>\n",
       "</div>"
      ],
      "text/plain": [
       "                                                   title  \\\n",
       "0      OPEN BORDERS BERNIE Threatens Sheriff Arpaio F...   \n",
       "1      Trump says Mexico 'eventually' will pay for bo...   \n",
       "2      SHOCKING! MSNBC REPORTER GRILLS MAXINE WATERS ...   \n",
       "3       NRA Finally Vomits Up Stupid, Hypocritical No...   \n",
       "4      CATHERINE HERRIDGE: ‘Verifiable Proof’ Comey D...   \n",
       "...                                                  ...   \n",
       "44893   Former FBI Agent: ‘Stay Tuned’ Because Muelle...   \n",
       "44894   Hateful Letter To Food Bank PROVES We Need Fo...   \n",
       "44895  Pakistani peace activist reported missing, pol...   \n",
       "44896  Trump softens immigration stance, takes measur...   \n",
       "44897  War-ravaged South Sudan may scrap expensive oi...   \n",
       "\n",
       "                                                    text       subject  \\\n",
       "0      Just what America needs another President who ...      politics   \n",
       "1      WASHINGTON (Reuters) - President Donald Trump ...  politicsNews   \n",
       "2      TERM LIMITS, TERM LIMITS, TERM LIMITS! Maxine ...      politics   \n",
       "3      Philandro Castile, the black man in Minnesota ...          News   \n",
       "4      It had been reported (see our previous report ...      politics   \n",
       "...                                                  ...           ...   \n",
       "44893  Donald Trump is terrified of Special Counsel R...          News   \n",
       "44894  A few days before Thanksgiving, a food bank in...          News   \n",
       "44895  Karachi, Pakistan (Reuters) - A Pakistani peac...     worldnews   \n",
       "44896  WASHINGTON (Reuters) - President Donald Trump ...  politicsNews   \n",
       "44897  JUBA (Reuters) - War-ravaged South Sudan is co...     worldnews   \n",
       "\n",
       "                      date  label  \n",
       "0             Mar 20, 2016      1  \n",
       "1          April 23, 2017       0  \n",
       "2             May 14, 2017      1  \n",
       "3             July 8, 2016      1  \n",
       "4             Oct 17, 2017      1  \n",
       "...                    ...    ...  \n",
       "44893       August 6, 2017      1  \n",
       "44894    November 25, 2016      1  \n",
       "44895    December 5, 2017       0  \n",
       "44896   February 28, 2017       0  \n",
       "44897  September 12, 2017       0  \n",
       "\n",
       "[44898 rows x 5 columns]"
      ]
     },
     "execution_count": 233,
     "metadata": {},
     "output_type": "execute_result"
    }
   ],
   "source": [
    "#Shuffle the rows of the new dataframe\n",
    "data = result.sample(frac=1).reset_index(drop=True)\n",
    "data"
   ]
  },
  {
   "cell_type": "code",
   "execution_count": 234,
   "id": "9cfc5a48",
   "metadata": {},
   "outputs": [
    {
     "name": "stdout",
     "output_type": "stream",
     "text": [
      "<class 'pandas.core.frame.DataFrame'>\n",
      "RangeIndex: 44898 entries, 0 to 44897\n",
      "Data columns (total 5 columns):\n",
      " #   Column   Non-Null Count  Dtype \n",
      "---  ------   --------------  ----- \n",
      " 0   title    44898 non-null  object\n",
      " 1   text     44898 non-null  object\n",
      " 2   subject  44898 non-null  object\n",
      " 3   date     44898 non-null  object\n",
      " 4   label    44898 non-null  int64 \n",
      "dtypes: int64(1), object(4)\n",
      "memory usage: 1.7+ MB\n"
     ]
    }
   ],
   "source": [
    "data.info()"
   ]
  },
  {
   "cell_type": "code",
   "execution_count": 235,
   "id": "c954f709",
   "metadata": {},
   "outputs": [
    {
     "data": {
      "text/plain": [
       "(44898, 5)"
      ]
     },
     "execution_count": 235,
     "metadata": {},
     "output_type": "execute_result"
    }
   ],
   "source": [
    "data.shape"
   ]
  },
  {
   "cell_type": "code",
   "execution_count": 236,
   "id": "97c5b108",
   "metadata": {},
   "outputs": [
    {
     "name": "stdout",
     "output_type": "stream",
     "text": [
      "[0 1]\n",
      "[21417 23481]\n"
     ]
    }
   ],
   "source": [
    "print(np.unique(data['label']))\n",
    "print(np.unique(data['label'].value_counts()))"
   ]
  },
  {
   "cell_type": "code",
   "execution_count": 237,
   "id": "d7b60bf2",
   "metadata": {},
   "outputs": [],
   "source": [
    "#Remove punctuations\n",
    "def remove_punct(text):\n",
    "    return (\"\".join([ch for ch in text if ch not in st.punctuation]))\n",
    "\n",
    "data['removed_punc'] = data['text'].apply(lambda x: remove_punct(x))"
   ]
  },
  {
   "cell_type": "code",
   "execution_count": 238,
   "id": "64786ee0",
   "metadata": {},
   "outputs": [],
   "source": [
    "#Tokenization\n",
    "def tokenize(text):\n",
    "    text = word_tokenize(text)\n",
    "    return [x.lower() for x in text]\n",
    "\n",
    "data['tokens'] = data['removed_punc'].apply(lambda msg : tokenize(msg))"
   ]
  },
  {
   "cell_type": "code",
   "execution_count": 239,
   "id": "891c1099",
   "metadata": {},
   "outputs": [],
   "source": [
    "#Removing small words\n",
    "def remove_small_words(text):\n",
    "    return [x for x in text if len(x) > 3 ]"
   ]
  },
  {
   "cell_type": "code",
   "execution_count": 243,
   "id": "84e7535b",
   "metadata": {},
   "outputs": [],
   "source": [
    "data['filtered_tokens'] = data['tokens'].apply(lambda x : remove_small_words(x))"
   ]
  },
  {
   "cell_type": "code",
   "execution_count": 244,
   "id": "46f366ee",
   "metadata": {},
   "outputs": [],
   "source": [
    "#Removing small words\n",
    "stopwords = set(nltk.corpus.stopwords.words('english'))\n",
    "\n",
    "def clean_text(text):\n",
    "    text = [word for word in text if word not in stopwords]\n",
    "    return text"
   ]
  },
  {
   "cell_type": "code",
   "execution_count": 245,
   "id": "f4df8d0b",
   "metadata": {},
   "outputs": [],
   "source": [
    "data['clean_tokens'] = data['filtered_tokens'].apply(lambda x : clean_text(x))"
   ]
  },
  {
   "cell_type": "code",
   "execution_count": 246,
   "id": "d4b9171b",
   "metadata": {},
   "outputs": [],
   "source": [
    "#Lemmatization\n",
    "word_net = WordNetLemmatizer()\n",
    "\n",
    "def lemmatize(text):\n",
    "    return [word_net.lemmatize(word) for word in text]"
   ]
  },
  {
   "cell_type": "code",
   "execution_count": 247,
   "id": "9e78e736",
   "metadata": {},
   "outputs": [],
   "source": [
    "data['lemma_words'] = data['clean_tokens'].apply(lambda x : lemmatize(x))"
   ]
  },
  {
   "cell_type": "code",
   "execution_count": 249,
   "id": "bfbcf984",
   "metadata": {},
   "outputs": [],
   "source": [
    "# Create sentences to get clean text as input for vectors\n",
    "def return_sentences(tokens):\n",
    "    return \" \".join([word for word in tokens])"
   ]
  },
  {
   "cell_type": "code",
   "execution_count": 251,
   "id": "36d94f02",
   "metadata": {},
   "outputs": [
    {
     "data": {
      "text/html": [
       "<div>\n",
       "<style scoped>\n",
       "    .dataframe tbody tr th:only-of-type {\n",
       "        vertical-align: middle;\n",
       "    }\n",
       "\n",
       "    .dataframe tbody tr th {\n",
       "        vertical-align: top;\n",
       "    }\n",
       "\n",
       "    .dataframe thead th {\n",
       "        text-align: right;\n",
       "    }\n",
       "</style>\n",
       "<table border=\"1\" class=\"dataframe\">\n",
       "  <thead>\n",
       "    <tr style=\"text-align: right;\">\n",
       "      <th></th>\n",
       "      <th>title</th>\n",
       "      <th>text</th>\n",
       "      <th>subject</th>\n",
       "      <th>date</th>\n",
       "      <th>label</th>\n",
       "      <th>removed_punc</th>\n",
       "      <th>tokens</th>\n",
       "      <th>filtered_tokens</th>\n",
       "      <th>clean_tokens</th>\n",
       "      <th>lemma_words</th>\n",
       "      <th>clean_text</th>\n",
       "    </tr>\n",
       "  </thead>\n",
       "  <tbody>\n",
       "    <tr>\n",
       "      <th>0</th>\n",
       "      <td>OPEN BORDERS BERNIE Threatens Sheriff Arpaio F...</td>\n",
       "      <td>Just what America needs another President who ...</td>\n",
       "      <td>politics</td>\n",
       "      <td>Mar 20, 2016</td>\n",
       "      <td>1</td>\n",
       "      <td>Just what America needs another President who ...</td>\n",
       "      <td>[just, what, america, needs, another, presiden...</td>\n",
       "      <td>[just, what, america, needs, another, presiden...</td>\n",
       "      <td>[america, needs, another, president, makes, la...</td>\n",
       "      <td>[america, need, another, president, make, law,...</td>\n",
       "      <td>america need another president make law radica...</td>\n",
       "    </tr>\n",
       "    <tr>\n",
       "      <th>1</th>\n",
       "      <td>Trump says Mexico 'eventually' will pay for bo...</td>\n",
       "      <td>WASHINGTON (Reuters) - President Donald Trump ...</td>\n",
       "      <td>politicsNews</td>\n",
       "      <td>April 23, 2017</td>\n",
       "      <td>0</td>\n",
       "      <td>WASHINGTON Reuters  President Donald Trump sai...</td>\n",
       "      <td>[washington, reuters, president, donald, trump...</td>\n",
       "      <td>[washington, reuters, president, donald, trump...</td>\n",
       "      <td>[washington, reuters, president, donald, trump...</td>\n",
       "      <td>[washington, reuters, president, donald, trump...</td>\n",
       "      <td>washington reuters president donald trump said...</td>\n",
       "    </tr>\n",
       "    <tr>\n",
       "      <th>2</th>\n",
       "      <td>SHOCKING! MSNBC REPORTER GRILLS MAXINE WATERS ...</td>\n",
       "      <td>TERM LIMITS, TERM LIMITS, TERM LIMITS! Maxine ...</td>\n",
       "      <td>politics</td>\n",
       "      <td>May 14, 2017</td>\n",
       "      <td>1</td>\n",
       "      <td>TERM LIMITS TERM LIMITS TERM LIMITS Maxine Wat...</td>\n",
       "      <td>[term, limits, term, limits, term, limits, max...</td>\n",
       "      <td>[term, limits, term, limits, term, limits, max...</td>\n",
       "      <td>[term, limits, term, limits, term, limits, max...</td>\n",
       "      <td>[term, limit, term, limit, term, limit, maxine...</td>\n",
       "      <td>term limit term limit term limit maxine water ...</td>\n",
       "    </tr>\n",
       "    <tr>\n",
       "      <th>3</th>\n",
       "      <td>NRA Finally Vomits Up Stupid, Hypocritical No...</td>\n",
       "      <td>Philandro Castile, the black man in Minnesota ...</td>\n",
       "      <td>News</td>\n",
       "      <td>July 8, 2016</td>\n",
       "      <td>1</td>\n",
       "      <td>Philandro Castile the black man in Minnesota w...</td>\n",
       "      <td>[philandro, castile, the, black, man, in, minn...</td>\n",
       "      <td>[philandro, castile, black, minnesota, license...</td>\n",
       "      <td>[philandro, castile, black, minnesota, license...</td>\n",
       "      <td>[philandro, castile, black, minnesota, license...</td>\n",
       "      <td>philandro castile black minnesota licensed con...</td>\n",
       "    </tr>\n",
       "    <tr>\n",
       "      <th>4</th>\n",
       "      <td>CATHERINE HERRIDGE: ‘Verifiable Proof’ Comey D...</td>\n",
       "      <td>It had been reported (see our previous report ...</td>\n",
       "      <td>politics</td>\n",
       "      <td>Oct 17, 2017</td>\n",
       "      <td>1</td>\n",
       "      <td>It had been reported see our previous report b...</td>\n",
       "      <td>[it, had, been, reported, see, our, previous, ...</td>\n",
       "      <td>[been, reported, previous, report, below, veri...</td>\n",
       "      <td>[reported, previous, report, verified, directo...</td>\n",
       "      <td>[reported, previous, report, verified, directo...</td>\n",
       "      <td>reported previous report verified director jam...</td>\n",
       "    </tr>\n",
       "  </tbody>\n",
       "</table>\n",
       "</div>"
      ],
      "text/plain": [
       "                                               title  \\\n",
       "0  OPEN BORDERS BERNIE Threatens Sheriff Arpaio F...   \n",
       "1  Trump says Mexico 'eventually' will pay for bo...   \n",
       "2  SHOCKING! MSNBC REPORTER GRILLS MAXINE WATERS ...   \n",
       "3   NRA Finally Vomits Up Stupid, Hypocritical No...   \n",
       "4  CATHERINE HERRIDGE: ‘Verifiable Proof’ Comey D...   \n",
       "\n",
       "                                                text       subject  \\\n",
       "0  Just what America needs another President who ...      politics   \n",
       "1  WASHINGTON (Reuters) - President Donald Trump ...  politicsNews   \n",
       "2  TERM LIMITS, TERM LIMITS, TERM LIMITS! Maxine ...      politics   \n",
       "3  Philandro Castile, the black man in Minnesota ...          News   \n",
       "4  It had been reported (see our previous report ...      politics   \n",
       "\n",
       "              date  label                                       removed_punc  \\\n",
       "0     Mar 20, 2016      1  Just what America needs another President who ...   \n",
       "1  April 23, 2017       0  WASHINGTON Reuters  President Donald Trump sai...   \n",
       "2     May 14, 2017      1  TERM LIMITS TERM LIMITS TERM LIMITS Maxine Wat...   \n",
       "3     July 8, 2016      1  Philandro Castile the black man in Minnesota w...   \n",
       "4     Oct 17, 2017      1  It had been reported see our previous report b...   \n",
       "\n",
       "                                              tokens  \\\n",
       "0  [just, what, america, needs, another, presiden...   \n",
       "1  [washington, reuters, president, donald, trump...   \n",
       "2  [term, limits, term, limits, term, limits, max...   \n",
       "3  [philandro, castile, the, black, man, in, minn...   \n",
       "4  [it, had, been, reported, see, our, previous, ...   \n",
       "\n",
       "                                     filtered_tokens  \\\n",
       "0  [just, what, america, needs, another, presiden...   \n",
       "1  [washington, reuters, president, donald, trump...   \n",
       "2  [term, limits, term, limits, term, limits, max...   \n",
       "3  [philandro, castile, black, minnesota, license...   \n",
       "4  [been, reported, previous, report, below, veri...   \n",
       "\n",
       "                                        clean_tokens  \\\n",
       "0  [america, needs, another, president, makes, la...   \n",
       "1  [washington, reuters, president, donald, trump...   \n",
       "2  [term, limits, term, limits, term, limits, max...   \n",
       "3  [philandro, castile, black, minnesota, license...   \n",
       "4  [reported, previous, report, verified, directo...   \n",
       "\n",
       "                                         lemma_words  \\\n",
       "0  [america, need, another, president, make, law,...   \n",
       "1  [washington, reuters, president, donald, trump...   \n",
       "2  [term, limit, term, limit, term, limit, maxine...   \n",
       "3  [philandro, castile, black, minnesota, license...   \n",
       "4  [reported, previous, report, verified, directo...   \n",
       "\n",
       "                                          clean_text  \n",
       "0  america need another president make law radica...  \n",
       "1  washington reuters president donald trump said...  \n",
       "2  term limit term limit term limit maxine water ...  \n",
       "3  philandro castile black minnesota licensed con...  \n",
       "4  reported previous report verified director jam...  "
      ]
     },
     "execution_count": 251,
     "metadata": {},
     "output_type": "execute_result"
    }
   ],
   "source": [
    "data['clean_text'] = data['lemma_words'].apply(lambda x : return_sentences(x))\n",
    "data.head()"
   ]
  },
  {
   "cell_type": "code",
   "execution_count": 253,
   "id": "b59f29a2",
   "metadata": {},
   "outputs": [
    {
     "data": {
      "image/png": "[encoded data removed]",
      "text/plain": [
       "<Figure size 2000x1000 with 1 Axes>"
      ]
     },
     "metadata": {},
     "output_type": "display_data"
    }
   ],
   "source": [
    "#Generating word cloud\n",
    "text = \" \".join([x for x in final_df['clean_text']])\n",
    "wordcloud = WordCloud(max_font_size=30, max_words=1000).generate(text)\n",
    "\n",
    "# Display the generated image:\n",
    "plt.figure(figsize= [20,10])\n",
    "plt.imshow(wordcloud)\n",
    "plt.axis(\"off\")\n",
    "plt.show()"
   ]
  },
  {
   "cell_type": "code",
   "execution_count": 254,
   "id": "b46503bb",
   "metadata": {},
   "outputs": [
    {
     "name": "stdout",
     "output_type": "stream",
     "text": [
      "Train size: 35918\n",
      "Test size: 8980\n"
     ]
    }
   ],
   "source": [
    "#Split data\n",
    "train_size = int(len(data) * .8)\n",
    "print(\"Train size: %d\" % train_size)\n",
    "print(\"Test size: %d\" % (len(data) - train_size))"
   ]
  },
  {
   "cell_type": "code",
   "execution_count": 256,
   "id": "9b3dd15d",
   "metadata": {},
   "outputs": [],
   "source": [
    "def train_test_split(data, train_size):\n",
    "    train = data[:train_size]\n",
    "    test = data[train_size:]\n",
    "    return train, test"
   ]
  },
  {
   "cell_type": "code",
   "execution_count": 257,
   "id": "9e340938",
   "metadata": {},
   "outputs": [],
   "source": [
    "train_text, test_text = train_test_split(data['clean_text'], train_size)"
   ]
  },
  {
   "cell_type": "code",
   "execution_count": 258,
   "id": "84acad82",
   "metadata": {},
   "outputs": [],
   "source": [
    "train_label, test_label = train_test_split(data['label'], train_size)"
   ]
  },
  {
   "cell_type": "code",
   "execution_count": 259,
   "id": "988b9bda",
   "metadata": {},
   "outputs": [
    {
     "data": {
      "text/plain": [
       "0        america need another president make law radica...\n",
       "1        washington reuters president donald trump said...\n",
       "2        term limit term limit term limit maxine water ...\n",
       "3        philandro castile black minnesota licensed con...\n",
       "4        reported previous report verified director jam...\n",
       "                               ...                        \n",
       "35913    donald trump getting absolutely hammered recen...\n",
       "35914    washington reuters mike penny doubt life would...\n",
       "35915    reuters connecticut senate passed bill wednesd...\n",
       "35916    washington reuters republican presidential can...\n",
       "35917    functiond dgetelementsbytagnames0 dgetelementb...\n",
       "Name: clean_text, Length: 35918, dtype: object"
      ]
     },
     "execution_count": 259,
     "metadata": {},
     "output_type": "execute_result"
    }
   ],
   "source": [
    "train_text"
   ]
  },
  {
   "cell_type": "code",
   "execution_count": 260,
   "id": "ed020727",
   "metadata": {},
   "outputs": [
    {
     "data": {
      "text/plain": [
       "0        1\n",
       "1        0\n",
       "2        1\n",
       "3        1\n",
       "4        1\n",
       "        ..\n",
       "35913    1\n",
       "35914    0\n",
       "35915    0\n",
       "35916    0\n",
       "35917    1\n",
       "Name: label, Length: 35918, dtype: int64"
      ]
     },
     "execution_count": 260,
     "metadata": {},
     "output_type": "execute_result"
    }
   ],
   "source": [
    "train_label"
   ]
  },
  {
   "cell_type": "code",
   "execution_count": 261,
   "id": "ed9b6697",
   "metadata": {},
   "outputs": [],
   "source": [
    "max_words = 1000\n",
    "\n",
    "tokenize = keras.preprocessing.text.Tokenizer(num_words=max_words, char_level=False)"
   ]
  },
  {
   "cell_type": "code",
   "execution_count": 262,
   "id": "90f2f0f9",
   "metadata": {},
   "outputs": [],
   "source": [
    "#Let's fit the tokenizer to the training data\n",
    "tokenize.fit_on_texts(train_text)\n",
    "x_train = tokenize.texts_to_matrix(train_text)\n",
    "x_test = tokenize.texts_to_matrix(test_text)"
   ]
  },
  {
   "cell_type": "code",
   "execution_count": 263,
   "id": "0c759c0f",
   "metadata": {},
   "outputs": [
    {
     "data": {
      "text/plain": [
       "array([[0., 1., 0., ..., 0., 0., 0.],\n",
       "       [0., 1., 1., ..., 0., 0., 0.],\n",
       "       [0., 0., 1., ..., 0., 0., 0.],\n",
       "       ...,\n",
       "       [0., 1., 0., ..., 0., 0., 0.],\n",
       "       [0., 1., 1., ..., 0., 0., 0.],\n",
       "       [0., 0., 0., ..., 0., 0., 0.]])"
      ]
     },
     "execution_count": 263,
     "metadata": {},
     "output_type": "execute_result"
    }
   ],
   "source": [
    "x_train"
   ]
  },
  {
   "cell_type": "code",
   "execution_count": 264,
   "id": "348cee4e",
   "metadata": {},
   "outputs": [],
   "source": [
    "#Use sklearn utility to convert the label strings to numbered index\n",
    "encoder = LabelEncoder()\n",
    "encoder.fit(train_label)\n",
    "y_train = encoder.transform(train_label)\n",
    "y_test = encoder.transform(test_label)"
   ]
  },
  {
   "cell_type": "code",
   "execution_count": 265,
   "id": "de738190",
   "metadata": {},
   "outputs": [
    {
     "data": {
      "text/plain": [
       "array([1, 0, 1, ..., 0, 0, 1], dtype=int64)"
      ]
     },
     "execution_count": 265,
     "metadata": {},
     "output_type": "execute_result"
    }
   ],
   "source": [
    "y_train"
   ]
  },
  {
   "cell_type": "code",
   "execution_count": 266,
   "id": "246769db",
   "metadata": {},
   "outputs": [],
   "source": [
    "#Convert the labels to one-hot representation\n",
    "num_classes = np.max(y_train) +1\n",
    "y_train = keras.utils.to_categorical(y_train, num_classes)\n",
    "y_test = keras.utils.to_categorical(y_test, num_classes)"
   ]
  },
  {
   "cell_type": "code",
   "execution_count": 267,
   "id": "90c6af9d",
   "metadata": {},
   "outputs": [],
   "source": [
    "#Train model\n",
    "batch_size = 32\n",
    "epochs = 5\n",
    "drop_ratio = 0.5"
   ]
  },
  {
   "cell_type": "code",
   "execution_count": 269,
   "id": "9077cb90",
   "metadata": {},
   "outputs": [],
   "source": [
    "layers = keras.layers\n",
    "models = keras.models"
   ]
  },
  {
   "cell_type": "code",
   "execution_count": 270,
   "id": "74b0b9ca",
   "metadata": {},
   "outputs": [],
   "source": [
    "#Build the model\n",
    "model = models.Sequential()\n",
    "model.add(layers.Dense(512, input_shape=(max_words, )))\n",
    "model.add(layers.Activation('relu'))\n",
    "model.add(layers.Dense(num_classes))\n",
    "model.add(layers.Activation('softmax'))\n",
    "\n",
    "model.compile(loss='categorical_crossentropy', optimizer='adam', metrics=['accuracy'])"
   ]
  },
  {
   "cell_type": "code",
   "execution_count": 271,
   "id": "0b276a79",
   "metadata": {},
   "outputs": [
    {
     "name": "stdout",
     "output_type": "stream",
     "text": [
      "Model: \"sequential_17\"\n",
      "_________________________________________________________________\n",
      " Layer (type)                Output Shape              Param #   \n",
      "=================================================================\n",
      " dense_32 (Dense)            (None, 512)               512512    \n",
      "                                                                 \n",
      " activation_31 (Activation)  (None, 512)               0         \n",
      "                                                                 \n",
      " dense_33 (Dense)            (None, 2)                 1026      \n",
      "                                                                 \n",
      " activation_32 (Activation)  (None, 2)                 0         \n",
      "                                                                 \n",
      "=================================================================\n",
      "Total params: 513,538\n",
      "Trainable params: 513,538\n",
      "Non-trainable params: 0\n",
      "_________________________________________________________________\n"
     ]
    }
   ],
   "source": [
    "model.summary()"
   ]
  },
  {
   "cell_type": "code",
   "execution_count": 272,
   "id": "8d9ea3de",
   "metadata": {},
   "outputs": [
    {
     "name": "stdout",
     "output_type": "stream",
     "text": [
      "Epoch 1/5\n",
      "1011/1011 [==============================] - 3s 2ms/step - loss: 0.0548 - accuracy: 0.9832 - val_loss: 0.0211 - val_accuracy: 0.9947\n",
      "Epoch 2/5\n",
      "1011/1011 [==============================] - 2s 2ms/step - loss: 0.0125 - accuracy: 0.9963 - val_loss: 0.0148 - val_accuracy: 0.9969\n",
      "Epoch 3/5\n",
      "1011/1011 [==============================] - 3s 3ms/step - loss: 0.0071 - accuracy: 0.9976 - val_loss: 0.0137 - val_accuracy: 0.9967\n",
      "Epoch 4/5\n",
      "1011/1011 [==============================] - 2s 2ms/step - loss: 0.0050 - accuracy: 0.9986 - val_loss: 0.0137 - val_accuracy: 0.9975\n",
      "Epoch 5/5\n",
      "1011/1011 [==============================] - 2s 2ms/step - loss: 0.0056 - accuracy: 0.9986 - val_loss: 0.0174 - val_accuracy: 0.9969\n"
     ]
    }
   ],
   "source": [
    "history = model.fit(x_train, y_train, batch_size=batch_size, epochs=epochs, verbose=1, validation_split=0.1)"
   ]
  },
  {
   "cell_type": "code",
   "execution_count": 273,
   "id": "1de7f715",
   "metadata": {},
   "outputs": [
    {
     "name": "stdout",
     "output_type": "stream",
     "text": [
      "281/281 [==============================] - 0s 1ms/step - loss: 0.0149 - accuracy: 0.9970\n",
      "Test loss: 0.014937834814190865\n",
      "Test accuracy:  0.9969933032989502\n"
     ]
    }
   ],
   "source": [
    "#Evaluate the model. Just call the function model.evaluate()\n",
    "score = model.evaluate(x_test, y_test, batch_size=batch_size, verbose=1)\n",
    "print('Test loss:', score[0])\n",
    "print('Test accuracy: ', score[1])"
   ]
  },
  {
   "cell_type": "code",
   "execution_count": 274,
   "id": "f4103dc6",
   "metadata": {},
   "outputs": [],
   "source": [
    "#Evaluate the model\n",
    "text_labels = encoder.classes_"
   ]
  },
  {
   "cell_type": "code",
   "execution_count": 275,
   "id": "05328051",
   "metadata": {},
   "outputs": [
    {
     "name": "stdout",
     "output_type": "stream",
     "text": [
      "1/1 [==============================] - 0s 35ms/step\n",
      "fear cancellation based misinformation grown fear intolerance transphobia homophobia misogyny wrote  ...\n",
      "Actual label:Fake\n",
      "Predicted label:Fake\n",
      "\n",
      "1/1 [==============================] - 0s 16ms/step\n",
      "reuters federal judge michigan wednesday revoked order requiring recount state presidential vote sou ...\n",
      "Actual label:True\n",
      "Predicted label:True\n",
      "\n",
      "1/1 [==============================] - 0s 17ms/step\n",
      "london reuters british foreign secretary boris johnson said tuesday remark last week jailed iranianb ...\n",
      "Actual label:True\n",
      "Predicted label:True\n",
      "\n",
      "1/1 [==============================] - 0s 13ms/step\n",
      "washington reuters lawmaker said highprofile briefing trump administration north korea wednesday fai ...\n",
      "Actual label:True\n",
      "Predicted label:True\n",
      "\n",
      "1/1 [==============================] - 0s 13ms/step\n",
      "sandy spring april reuters president donald trump offyear congressional election tuesday reliably re ...\n",
      "Actual label:Fake\n",
      "Predicted label:Fake\n",
      "\n",
      "1/1 [==============================] - 0s 20ms/step\n",
      "anyone following current election every right absolutely disgusted republican party behavior candida ...\n",
      "Actual label:Fake\n",
      "Predicted label:Fake\n",
      "\n",
      "1/1 [==============================] - 0s 17ms/step\n",
      "deep state trying take president need stop dennis kucinich go tell sean hannity deep state trying de ...\n",
      "Actual label:Fake\n",
      "Predicted label:Fake\n",
      "\n",
      "1/1 [==============================] - 0s 15ms/step\n",
      "washington reuters president donald trump friday pushed back effort rein administration people enter ...\n",
      "Actual label:True\n",
      "Predicted label:True\n",
      "\n",
      "1/1 [==============================] - 0s 13ms/step\n",
      "wowa pregnant woman challenged life activist million keep babyin anonymous essay titled much would s ...\n",
      "Actual label:Fake\n",
      "Predicted label:Fake\n",
      "\n",
      "1/1 [==============================] - 0s 15ms/step\n",
      "people passion writing music art others make sure stand human right andor impact climate change glob ...\n",
      "Actual label:Fake\n",
      "Predicted label:Fake\n",
      "\n"
     ]
    }
   ],
   "source": [
    "for i in range(10, 20):\n",
    "    prediction = model.predict(np.array([x_test[i]]))\n",
    "    predicted_label = text_labels[np.argmax(prediction)]\n",
    "    \n",
    "    #a if a < b else b\n",
    "    print(test_text.iloc[i][:100], \"...\")\n",
    "    print('Actual label:' + (\"Fake\" if test_label.iloc[i] == 1 else \"True\"))          \n",
    "    print('Predicted label:' + (\"Fake\" if predicted_label == 1 else \"True\") + '\\n')"
   ]
  },
  {
   "cell_type": "code",
   "execution_count": null,
   "id": "1dea94b9",
   "metadata": {},
   "outputs": [],
   "source": []
  }
 ],
 "metadata": {
  "kernelspec": {
   "display_name": "Python 3 (ipykernel)",
   "language": "python",
   "name": "python3"
  },
  "language_info": {
   "codemirror_mode": {
    "name": "ipython",
    "version": 3
   },
   "file_extension": ".py",
   "mimetype": "text/x-python",
   "name": "python",
   "nbconvert_exporter": "python",
   "pygments_lexer": "ipython3",
   "version": "3.9.13"
  }
 },
 "nbformat": 4,
 "nbformat_minor": 5
}
